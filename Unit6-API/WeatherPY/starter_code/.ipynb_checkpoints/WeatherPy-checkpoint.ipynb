{
 "cells": [
  {
   "cell_type": "markdown",
   "metadata": {},
   "source": [
    "# WeatherPy\n",
    "----\n",
    "\n",
    "#### Note\n",
    "* Instructions have been included for each segment. You do not have to follow them exactly, but they are included to help you think through the steps."
   ]
  },
  {
   "cell_type": "code",
   "execution_count": null,
   "metadata": {
    "scrolled": true
   },
   "outputs": [],
   "source": [
    "import matplotlib.pyplot as plt\n",
    "import pandas as pd\n",
    "import numpy as np\n",
    "import requests\n",
    "import time\n",
    "import os\n",
    "from datetime import datetime\n",
    "from dateutil.parser import parse\n",
    "from api_keys import api_key\n",
    "from citipy import citipy\n",
    "output_data_file = \"output_data/cities.csv\"\n",
    "lat_range = (-90, 90)\n",
    "lng_range = (-180, 180)"
   ]
  },
  {
   "cell_type": "markdown",
   "metadata": {},
   "source": [
    "## Generate Cities List"
   ]
  },
  {
   "cell_type": "code",
   "execution_count": null,
   "metadata": {},
   "outputs": [],
   "source": [
    "# List for holding lat_lngs and cities\n",
    "lat_lngs = []\n",
    "cities = []\n",
    "\n",
    "# Create a set of random lat and lng combinations\n",
    "lats = np.random.uniform(low=-90.000, high=90.000, size=1500)\n",
    "lngs = np.random.uniform(low=-180.000, high=180.000, size=1500)\n",
    "lat_lngs = zip(lats, lngs)\n",
    "\n",
    "# Identify nearest city for each lat, lng combination\n",
    "for lat_lng in lat_lngs:\n",
    "    city = citipy.nearest_city(lat_lng[0], lat_lng[1]).city_name\n",
    "    \n",
    "    # If the city is unique, then add it to a our cities list\n",
    "    if city not in cities:\n",
    "        cities.append(city)\n",
    "\n",
    "# Print the city count to confirm sufficient count\n",
    "len(cities)"
   ]
  },
  {
   "cell_type": "markdown",
   "metadata": {},
   "source": [
    "### Perform API Calls\n",
    "* Perform a weather check on each city using a series of successive API calls.\n",
    "* Include a print log of each city as it'sbeing processed (with the city number and city name).\n"
   ]
  },
  {
   "cell_type": "code",
   "execution_count": null,
   "metadata": {},
   "outputs": [],
   "source": [
    "cities = cities\n",
    "url = \"http://api.openweathermap.org/data/2.5/weather?\"\n",
    "city = 'Toronto'\n",
    "uom = 'metric'\n",
    "citiestest = ['Seoul','Beijing','New York','Tianjin']\n",
    "cityList = pd.DataFrame(cities, columns=['City'])\n",
    "params = {\n",
    "    'units': uom\n",
    "    ,'appid': api_key\n",
    "    ,'q': city\n",
    "    }"
   ]
  },
  {
   "cell_type": "code",
   "execution_count": null,
   "metadata": {},
   "outputs": [],
   "source": [
    "#cityList\n",
    "cityList.to_csv(r'cityList.csv')"
   ]
  },
  {
   "cell_type": "code",
   "execution_count": null,
   "metadata": {},
   "outputs": [],
   "source": [
    "city_df = pd.read_csv('cityList.csv',index_col=[0])"
   ]
  },
  {
   "cell_type": "code",
   "execution_count": null,
   "metadata": {},
   "outputs": [],
   "source": [
    "lengthofrow = len(city_df)"
   ]
  },
  {
   "cell_type": "code",
   "execution_count": null,
   "metadata": {},
   "outputs": [],
   "source": [
    "weather = requests.get(url,params).json()\n",
    "weather"
   ]
  },
  {
   "cell_type": "code",
   "execution_count": null,
   "metadata": {},
   "outputs": [],
   "source": [
    "#cityTest = 'zavodoukovsk'\n",
    "#query_url = url+'appid='+api_key+\"&q=\"+cityTest+\"&units=metric\"\n",
    "#weather = requests.get(query_url).json()\n",
    "#weather\n",
    "#country -------- weather['sys']['country']\n",
    "#date ------------weather['dt']\n",
    "#humidity --------weather['main']['humidity']\n",
    "#longitude -------weather['coord']['lon']\n",
    "#latitude --------weather['coord']['lat']\n",
    "#max_temp --------weather['main']['temp_max']\n",
    "#wind_speed ------weather['wind']['speed']"
   ]
  },
  {
   "cell_type": "code",
   "execution_count": null,
   "metadata": {},
   "outputs": [],
   "source": [
    "city_df['Cloudiness'] = ''\n",
    "city_df['Country'] = ''\n",
    "city_df['Date'] = ''\n",
    "city_df['Humidity'] = ''\n",
    "city_df['Latitude'] = ''\n",
    "city_df['Longitude'] = ''\n",
    "city_df['Max Temp'] = ''\n",
    "city_df['Wind Speed'] = ''"
   ]
  },
  {
   "cell_type": "code",
   "execution_count": null,
   "metadata": {},
   "outputs": [],
   "source": [
    "city_df.head()"
   ]
  },
  {
   "cell_type": "code",
   "execution_count": null,
   "metadata": {},
   "outputs": [],
   "source": [
    "#date ------------response['dt']\n",
    "#humidity --------response['main']['humidity']\n",
    "#longitude -------response['coord']['lon']\n",
    "#latitude --------response['coord']['lat']\n",
    "#max_temp --------response['main']['temp_max']\n",
    "#wind_speed ------response['wind']['speed']\n",
    "for index, row in city_df.iterrows():\n",
    "    city = row['City']\n",
    "    params = {\n",
    "    'units': uom\n",
    "    ,'appid': api_key\n",
    "    ,'q': city\n",
    "    }\n",
    "    print(f'Processing Record {index} set of {lengthofrow} | {city}')\n",
    "    response = requests.get(url,params=params).json()\n",
    "    try:\n",
    "        city_df.loc[index,'Cloudiness']=response['clouds']['all']\n",
    "        city_df.loc[index,'Country']=response['sys']['country']\n",
    "        city_df.loc[index,'Date']=response['dt']\n",
    "        city_df.loc[index,'Humidity']=response['main']['humidity']\n",
    "        city_df.loc[index,'Longitude']=response['coord']['lon']\n",
    "        city_df.loc[index,'Latitude']=response['coord']['lat']\n",
    "        city_df.loc[index,'Max Temp']=response['main']['temp_max']\n",
    "        city_df.loc[index,'Wind Speed']=response['wind']['speed']\n",
    "    except KeyError:\n",
    "        print('missing values, i am going to skip it')\n",
    "        print('====================================')"
   ]
  },
  {
   "cell_type": "code",
   "execution_count": null,
   "metadata": {},
   "outputs": [],
   "source": [
    "city_df.head()"
   ]
  },
  {
   "cell_type": "markdown",
   "metadata": {},
   "source": [
    "### Convert Raw Data to DataFrame\n",
    "* Export the city data into a .csv.\n",
    "* Display the DataFrame"
   ]
  },
  {
   "cell_type": "code",
   "execution_count": null,
   "metadata": {},
   "outputs": [],
   "source": [
    "city_df.to_csv(r'city_df.csv')"
   ]
  },
  {
   "cell_type": "code",
   "execution_count": null,
   "metadata": {},
   "outputs": [],
   "source": [
    "citydf = pd.read_csv('city_df.csv',index_col=[0])"
   ]
  },
  {
   "cell_type": "code",
   "execution_count": null,
   "metadata": {},
   "outputs": [],
   "source": [
    "citydf.count()"
   ]
  },
  {
   "cell_type": "code",
   "execution_count": null,
   "metadata": {},
   "outputs": [],
   "source": [
    "citydf =citydf.dropna(how='any')"
   ]
  },
  {
   "cell_type": "code",
   "execution_count": null,
   "metadata": {},
   "outputs": [],
   "source": [
    "citydf =citydf.reset_index(drop=True)"
   ]
  },
  {
   "cell_type": "code",
   "execution_count": null,
   "metadata": {},
   "outputs": [],
   "source": [
    "citydf.count()"
   ]
  },
  {
   "cell_type": "code",
   "execution_count": null,
   "metadata": {},
   "outputs": [],
   "source": [
    "def windspeeds(x):\n",
    "    '''convert MPS Wind Speed to miles per hour'''\n",
    "    return x * 2.236936"
   ]
  },
  {
   "cell_type": "code",
   "execution_count": null,
   "metadata": {},
   "outputs": [],
   "source": [
    "for x in citydf['Wind Speed']:\n",
    "    citydf['Wind Speed (mph)'] = windspeeds(citydf['Wind Speed'])"
   ]
  },
  {
   "cell_type": "code",
   "execution_count": null,
   "metadata": {},
   "outputs": [],
   "source": [
    "def Farenheit(i):\n",
    "    '''convert Kevlin to Farenheit'''\n",
    "    return (i-273.15) * 9/5 + 32"
   ]
  },
  {
   "cell_type": "code",
   "execution_count": null,
   "metadata": {},
   "outputs": [],
   "source": [
    "for x in citydf['Max Temp']:\n",
    "    citydf['Max Temp (F)'] = Farenheit(citydf['Max Temp'])"
   ]
  },
  {
   "cell_type": "code",
   "execution_count": null,
   "metadata": {},
   "outputs": [],
   "source": [
    "citydf.head()"
   ]
  },
  {
   "cell_type": "markdown",
   "metadata": {},
   "source": [
    "### Plotting the Data\n",
    "* Use proper labeling of the plots using plot titles (including date of analysis) and axes labels.\n",
    "* Save the plotted figures as .pngs."
   ]
  },
  {
   "cell_type": "markdown",
   "metadata": {},
   "source": [
    "#### Latitude vs. Temperature Plot"
   ]
  },
  {
   "cell_type": "code",
   "execution_count": null,
   "metadata": {},
   "outputs": [],
   "source": [
    "x_axis = citydf['Latitude']"
   ]
  },
  {
   "cell_type": "code",
   "execution_count": null,
   "metadata": {},
   "outputs": [],
   "source": [
    "y_axis = citydf['Max Temp']"
   ]
  },
  {
   "cell_type": "code",
   "execution_count": null,
   "metadata": {},
   "outputs": [],
   "source": [
    "date = pd.to_datetime(citydf['Date'][0],unit='s')\n",
    "date = date.strftime('%m-%d-%y')\n",
    "date = str(date)\n",
    "date\n",
    "#date = str(date)\n",
    "#date = date[:10]\n",
    "date = \"(\" + date + \")\"\n",
    "#date.strftime('%mm-%dd-%YY')"
   ]
  },
  {
   "cell_type": "code",
   "execution_count": null,
   "metadata": {},
   "outputs": [],
   "source": [
    "figure, ax = plt.subplots()\n",
    "ax.scatter(x_axis,y_axis,c='red',alpha=0.5,edgecolor='black',s=400)\n",
    "ax.grid(color='white')\n",
    "ax.set_ylim(-40,60)\n",
    "ax.set_title(f'City Latitude vs. Max Temperature {date}')\n",
    "ax.set_xlabel('Latitude')\n",
    "ax.set_ylabel('Max Temperature (F)')\n",
    "ax.set_facecolor('lightblue')\n",
    "figure.set_figheight(15)\n",
    "figure.set_figwidth(15)\n",
    "\n",
    "\n",
    "#plt.scatter(x_axis,y_axis,alpha=0.5,color='red',edgecolors='black',s=50)\n",
    "#plt.ylim(-40,50)\n",
    "#plt.title(f'City Latitude vs. Max Temperature {date}')\n",
    "#plt.ylabel('Max Temperature (F)')\n",
    "#plt.xlabel('Latitude')\n",
    "#plt.grid()\n",
    "plt.savefig(os.path.join(f'City Latitude vs Max Temperature.png'))\n",
    "plt.show()"
   ]
  },
  {
   "cell_type": "markdown",
   "metadata": {},
   "source": [
    "#### Latitude vs. Humidity Plot"
   ]
  },
  {
   "cell_type": "code",
   "execution_count": null,
   "metadata": {},
   "outputs": [],
   "source": [
    "y_axis = citydf['Humidity']"
   ]
  },
  {
   "cell_type": "code",
   "execution_count": null,
   "metadata": {},
   "outputs": [],
   "source": [
    "figure, ax = plt.subplots()\n",
    "ax.scatter(x_axis,y_axis,c='purple',alpha=0.6,edgecolor='black',s=400)\n",
    "ax.grid(color='white')\n",
    "ax.set_ylim(-2,110)\n",
    "ax.set_title(f'City Latitude vs. Max Temperature {date}')\n",
    "ax.set_xlabel('Latitude')\n",
    "ax.set_ylabel('Max Temperature (F)')\n",
    "ax.set_facecolor('lightblue')\n",
    "figure.set_figheight(15)\n",
    "figure.set_figwidth(15)\n",
    "\n",
    "#plt.scatter(x_axis,y_axis,alpha=0.7,c='lightblue',edgecolors='black')\n",
    "#plt.ylim(0,105)\n",
    "#plt.title(f'City Latitude vs. Humidity {date}')\n",
    "#plt.ylabel('Humidity (%)')\n",
    "#plt.xlabel('Latitude')\n",
    "#plt.grid()\n",
    "plt.savefig(os.path.join(f'City Latitude vs Humidity.png'))\n",
    "plt.show()"
   ]
  },
  {
   "cell_type": "markdown",
   "metadata": {},
   "source": [
    "#### Latitude vs. Cloudiness Plot"
   ]
  },
  {
   "cell_type": "code",
   "execution_count": null,
   "metadata": {},
   "outputs": [],
   "source": [
    "y_axis = citydf['Cloudiness']"
   ]
  },
  {
   "cell_type": "code",
   "execution_count": null,
   "metadata": {},
   "outputs": [],
   "source": [
    "figure, ax = plt.subplots()\n",
    "ax.scatter(x_axis,y_axis,c='gray',alpha=0.7,edgecolor='black',s=400)\n",
    "ax.grid(color='white')\n",
    "ax.set_ylim()\n",
    "ax.set_title(f'City Latitude vs. Max Temperature {date}')\n",
    "ax.set_xlabel('Latitude')\n",
    "ax.set_ylabel('Max Temperature (F)')\n",
    "ax.set_facecolor('lightblue')\n",
    "figure.set_figheight(15)\n",
    "figure.set_figwidth(15)\n",
    "\n",
    "#plt.scatter(x_axis,y_axis,alpha=0.6,c='purple',edgecolors='black')\n",
    "#plt.title(f'City Latitude vs. Cloudiness {date}')\n",
    "#plt.ylabel('Cloudiness (%)')\n",
    "#plt.xlabel('Latitude')\n",
    "#plt.grid()\n",
    "plt.savefig(os.path.join(f'City Latitude vs Cloudiness.png'))\n",
    "plt.show()"
   ]
  },
  {
   "cell_type": "markdown",
   "metadata": {},
   "source": [
    "#### Latitude vs. Wind Speed Plot"
   ]
  },
  {
   "cell_type": "code",
   "execution_count": null,
   "metadata": {},
   "outputs": [],
   "source": [
    "y_axis = citydf['Wind Speed (mph)']"
   ]
  },
  {
   "cell_type": "code",
   "execution_count": null,
   "metadata": {},
   "outputs": [],
   "source": [
    "figure, ax = plt.subplots()\n",
    "ax.scatter(x_axis,y_axis,c='orange',alpha=0.5,edgecolor='black',s=400)\n",
    "ax.grid(color='white')\n",
    "ax.set_ylim()\n",
    "ax.set_title(f'City Latitude vs. Max Temperature {date}')\n",
    "ax.set_xlabel('Latitude')\n",
    "ax.set_ylabel('Max Temperature (F)')\n",
    "ax.set_facecolor('lightblue')\n",
    "figure.set_figheight(15)\n",
    "figure.set_figwidth(15)\n",
    "\n",
    "#plt.scatter(x_axis,y_axis,alpha=0.7,c='orange',edgecolors='black')\n",
    "#plt.ylim(-5,50)\n",
    "#plt.title(f'City Latitude vs. Wind Speed {date}')\n",
    "#plt.ylabel('Wind Speed (mph)')\n",
    "#plt.xlabel('Latitude')\n",
    "#plt.grid()\n",
    "plt.savefig(os.path.join(f'City Latitude vs Wind Speed.png'))\n",
    "plt.show()"
   ]
  }
 ],
 "metadata": {
  "anaconda-cloud": {},
  "kernel_info": {
   "name": "python3"
  },
  "kernelspec": {
   "display_name": "Python 3",
   "language": "python",
   "name": "python3"
  },
  "language_info": {
   "codemirror_mode": {
    "name": "ipython",
    "version": 3
   },
   "file_extension": ".py",
   "mimetype": "text/x-python",
   "name": "python",
   "nbconvert_exporter": "python",
   "pygments_lexer": "ipython3",
   "version": "3.7.3"
  },
  "nteract": {
   "version": "0.12.3"
  }
 },
 "nbformat": 4,
 "nbformat_minor": 2
}
